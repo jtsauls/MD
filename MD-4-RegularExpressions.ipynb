{
 "cells": [
  {
   "cell_type": "markdown",
   "metadata": {},
   "source": [
    "Regular Expressions!\n",
    "--\n",
    "\n",
    "Like before, we'll begin by importing the libraries we need. In this case, we'll import the Regular Expressions library, 're'."
   ]
  },
  {
   "cell_type": "code",
   "execution_count": 1,
   "metadata": {
    "collapsed": true
   },
   "outputs": [],
   "source": [
    "import re"
   ]
  },
  {
   "cell_type": "markdown",
   "metadata": {},
   "source": [
    "Let's create some text with a **conspicuous** pattern and assign it to a variable."
   ]
  },
  {
   "cell_type": "code",
   "execution_count": 2,
   "metadata": {
    "collapsed": true
   },
   "outputs": [],
   "source": [
    "birdText = \"There are 35 Robins, 62 Doves, 18 Thrushes, and 5 Owls over here. Oh, and I forgot that there are 10 Woodpeckers.\""
   ]
  },
  {
   "cell_type": "markdown",
   "metadata": {},
   "source": [
    "Using the .findall() method, we can apply a regular expression to some text, and return the matches as a list. In this first case, we're going to separate out the numbers by themselves. By using `\\d+` we are looking for one or more (\\d)igits."
   ]
  },
  {
   "cell_type": "code",
   "execution_count": 3,
   "metadata": {
    "collapsed": false
   },
   "outputs": [
    {
     "name": "stdout",
     "output_type": "stream",
     "text": [
      "numbers = ['35', '62', '18', '5', '10']\n"
     ]
    }
   ],
   "source": [
    "numbers = re.findall(r'\\d+',birdText)\n",
    "\n",
    "print \"numbers =\",numbers"
   ]
  },
  {
   "cell_type": "markdown",
   "metadata": {},
   "source": [
    "this **numbers** variable is just like any other list, and can be sliced just like before."
   ]
  },
  {
   "cell_type": "code",
   "execution_count": 4,
   "metadata": {
    "collapsed": false
   },
   "outputs": [
    {
     "name": "stdout",
     "output_type": "stream",
     "text": [
      "<type 'list'>\n",
      "['18', '5', '10']\n"
     ]
    }
   ],
   "source": [
    "print type(numbers)\n",
    "print numbers[2:5]"
   ]
  },
  {
   "cell_type": "markdown",
   "metadata": {},
   "source": [
    "if we need the numbers to be `integers` we can use list comprehension to convert them. _(Or later, we'll convert them a different way.)_"
   ]
  },
  {
   "cell_type": "code",
   "execution_count": 5,
   "metadata": {
    "collapsed": false
   },
   "outputs": [
    {
     "data": {
      "text/plain": [
       "[35, 62, 18, 5, 10]"
      ]
     },
     "execution_count": 5,
     "metadata": {},
     "output_type": "execute_result"
    }
   ],
   "source": [
    "[int(i) for i in numbers]"
   ]
  },
  {
   "cell_type": "markdown",
   "metadata": {},
   "source": [
    "This text also includes a bunch of words that are capitalized. We can do a regular expression to get those into a list of strings as well:\n",
    "\n",
    "*(Remember the following from the powerpoint? It's ok if you don't. That business was super dry.)*\n",
    "\n",
    "`[A-Z]` is a range of characters from uppercase A to uppercase Z, but is only looking for one of them. \n",
    "\n",
    "`[a-z]*` is a range of characters from lowercase a to lowercase z, but this time the asterisk modifier `'*'` indicates that the previous pattern should be included if there are **zero or more** of them."
   ]
  },
  {
   "cell_type": "code",
   "execution_count": 6,
   "metadata": {
    "collapsed": false
   },
   "outputs": [
    {
     "name": "stdout",
     "output_type": "stream",
     "text": [
      "capitals = ['There', 'Robins', 'Doves', 'Thrushes', 'Owls', 'Oh', 'I', 'Woodpeckers']\n"
     ]
    }
   ],
   "source": [
    "capitals = re.findall(r'[A-Z][a-z]*', birdText)\n",
    "\n",
    "print \"capitals =\",capitals"
   ]
  },
  {
   "cell_type": "markdown",
   "metadata": {},
   "source": [
    "This found all of the words that were capitalized, including 'I' which had no lowercase letters. Unfortunately, this includes words that are not bird names, so we have to come up with a different pattern to separate them out. We can't just change the modifier from `'*'` to `'+'`, as it would include 'Oh' in the results.\n",
    "\n",
    "In the text, each of the bird names is capitalized, but is immediately preceded by a number. So in this case, we will indicate that we are looking for capitalized words that immediately follow one or more digits, `'\\d+'` and a single whitespace character, `'\\s'`."
   ]
  },
  {
   "cell_type": "code",
   "execution_count": 7,
   "metadata": {
    "collapsed": false
   },
   "outputs": [
    {
     "name": "stdout",
     "output_type": "stream",
     "text": [
      "birds = ['Robins', 'Doves', 'Thrushes', 'Owls', 'Woodpeckers']\n"
     ]
    }
   ],
   "source": [
    "birds = re.findall(r'\\d+\\s([A-Z][a-z]*)',birdText)\n",
    "\n",
    "print \"birds =\",birds"
   ]
  },
  {
   "cell_type": "markdown",
   "metadata": {},
   "source": [
    "notice above, that the expression looks like `\\d+\\s([A-Z][a-z]*)`. The part surrounded by parenthesis is being **captured**. This allows only the bird names to be added to the list.\n",
    "\n",
    "But, we probably would like to include the numbers. To do so, we need to create a second capturing group."
   ]
  },
  {
   "cell_type": "code",
   "execution_count": 8,
   "metadata": {
    "collapsed": false
   },
   "outputs": [
    {
     "name": "stdout",
     "output_type": "stream",
     "text": [
      "birdNums = [('35', 'Robins'), ('62', 'Doves'), ('18', 'Thrushes'), ('5', 'Owls'), ('10', 'Woodpeckers')]\n"
     ]
    }
   ],
   "source": [
    "birdNums = re.findall(r'(\\d+)\\s([A-Z][a-z]*)',birdText)\n",
    "\n",
    "print \"birdNums =\",birdNums"
   ]
  },
  {
   "cell_type": "markdown",
   "metadata": {},
   "source": [
    "Now, the numbers and birds are paired in a list of tuples. But it may not be convenient for us to have the number first. Perhaps, we would like to create a dictionary where we search by a bird name, and it returns the number. With the entries ordered this way, a dictionary would be backwards. It would be like saying \"What do I have 10 of? Oh, Woodpeckers!\"\n",
    "\n",
    "Let's reverse it, using...\n",
    "\n",
    "list comprehension and slices!"
   ]
  },
  {
   "cell_type": "code",
   "execution_count": 9,
   "metadata": {
    "collapsed": false,
    "scrolled": true
   },
   "outputs": [
    {
     "name": "stdout",
     "output_type": "stream",
     "text": [
      "ordered = [('Robins', '35'), ('Doves', '62'), ('Thrushes', '18'), ('Owls', '5'), ('Woodpeckers', '10')]\n"
     ]
    }
   ],
   "source": [
    "ordered = [birdPair[::-1] for birdPair in birdNums]\n",
    "\n",
    "print \"ordered =\",ordered"
   ]
  },
  {
   "cell_type": "markdown",
   "metadata": {},
   "source": [
    "Just because it is good to check every once in a while, lets see what types we're dealing with:"
   ]
  },
  {
   "cell_type": "code",
   "execution_count": 10,
   "metadata": {
    "collapsed": false
   },
   "outputs": [
    {
     "name": "stdout",
     "output_type": "stream",
     "text": [
      "<type 'list'>\n",
      "<type 'tuple'>\n"
     ]
    }
   ],
   "source": [
    "print type(ordered)\n",
    "print type(ordered[0])"
   ]
  },
  {
   "cell_type": "markdown",
   "metadata": {},
   "source": [
    "Now that we have a list of correctly-ordered tuples, what if we want to make this something searchable? We can use the dict() function on our tuple list and it will convert our tuples into key-value pairs, searchable on the key."
   ]
  },
  {
   "cell_type": "code",
   "execution_count": 11,
   "metadata": {
    "collapsed": false
   },
   "outputs": [
    {
     "name": "stdout",
     "output_type": "stream",
     "text": [
      "{'Owls': '5', 'Thrushes': '18', 'Woodpeckers': '10', 'Robins': '35', 'Doves': '62'}\n"
     ]
    }
   ],
   "source": [
    "birdDict = dict(ordered)\n",
    "print birdDict"
   ]
  },
  {
   "cell_type": "markdown",
   "metadata": {},
   "source": [
    "This looks good, but notice that there are single quotes around the numbers? Even though these appear to be numbers, Python still sees them as strings:"
   ]
  },
  {
   "cell_type": "code",
   "execution_count": 12,
   "metadata": {
    "collapsed": false
   },
   "outputs": [
    {
     "name": "stdout",
     "output_type": "stream",
     "text": [
      "<type 'str'>\n"
     ]
    }
   ],
   "source": [
    "print type(birdDict.get('Owls'))"
   ]
  },
  {
   "cell_type": "markdown",
   "metadata": {},
   "source": [
    "So, we're going to use dictionary comprehension (similar to list comprehension) and the int() function to convert the pairs into a string and integer."
   ]
  },
  {
   "cell_type": "code",
   "execution_count": 13,
   "metadata": {
    "collapsed": true
   },
   "outputs": [],
   "source": [
    "birdInt = {birdName: int(birdCount) for birdName, birdCount in birdDict.iteritems()}"
   ]
  },
  {
   "cell_type": "markdown",
   "metadata": {},
   "source": [
    "Let's break this down so that it (hopefully) isn't too intimidating:\n",
    "- `birdInt =` \n",
    "\n",
    "-- this is just the part of the assignment, where we are creating a new variable and assigning what comes next.\n",
    "- `birdName: int(birdCount)`\n",
    "\n",
    "-- We're starting with the open-curly-bracket to indicate that this is a dictionary. We're then using two arbitrarily defined variables to break apart the key and value pairs, separated by a colon ':'. In documentation, you will often see 'k' and 'v' for simplicity, but I'm deliberately choosing to name them something meaningful. I'm also putting the variable birdCount as the argument of the int() function. Even though we are using these variables here, Python doesn't know what they are yet.\n",
    "- `for`\n",
    "\n",
    "-- here's our longtime buddy, `for`, iterating through the items we supply to it.\n",
    "- `birdName, birdCount`\n",
    "\n",
    "-- our variables again, but we're defining them as a key-value pair for what comes next.\n",
    "- `in`\n",
    "\n",
    "-- another of our longtime buddies, hanging out with his friend `for`\n",
    "- `birdDict.iteritems()`\n",
    "\n",
    "-- ok, this is the new stuff. Basically, to iterate through a dictionary, the syntax is just a little different. Since we are returning the key-value as a pair, we need to **iter**ate through the **items**. It's very similar to the way that lists do it, but the method is just slightly different.\n",
    "\n",
    "As we can see, the variable `birdInt` is now a dictionary with string:integer pairs."
   ]
  },
  {
   "cell_type": "code",
   "execution_count": 14,
   "metadata": {
    "collapsed": false
   },
   "outputs": [
    {
     "data": {
      "text/plain": [
       "{'Doves': 62, 'Owls': 5, 'Robins': 35, 'Thrushes': 18, 'Woodpeckers': 10}"
      ]
     },
     "execution_count": 14,
     "metadata": {},
     "output_type": "execute_result"
    }
   ],
   "source": [
    "birdInt"
   ]
  },
  {
   "cell_type": "code",
   "execution_count": 15,
   "metadata": {
    "collapsed": false,
    "scrolled": true
   },
   "outputs": [
    {
     "data": {
      "text/plain": [
       "35"
      ]
     },
     "execution_count": 15,
     "metadata": {},
     "output_type": "execute_result"
    }
   ],
   "source": [
    "birdInt.get('Robins')"
   ]
  },
  {
   "cell_type": "code",
   "execution_count": 16,
   "metadata": {
    "collapsed": false
   },
   "outputs": [
    {
     "data": {
      "text/plain": [
       "int"
      ]
     },
     "execution_count": 16,
     "metadata": {},
     "output_type": "execute_result"
    }
   ],
   "source": [
    "type(birdInt.get('Robins'))"
   ]
  },
  {
   "cell_type": "markdown",
   "metadata": {},
   "source": [
    "We can add to our dictionary, should we need get more information:"
   ]
  },
  {
   "cell_type": "code",
   "execution_count": 17,
   "metadata": {
    "collapsed": false
   },
   "outputs": [],
   "source": [
    "birdInt['Finches'] = 45"
   ]
  },
  {
   "cell_type": "code",
   "execution_count": 18,
   "metadata": {
    "collapsed": false
   },
   "outputs": [
    {
     "data": {
      "text/plain": [
       "{'Doves': 62,\n",
       " 'Finches': 45,\n",
       " 'Owls': 5,\n",
       " 'Robins': 35,\n",
       " 'Thrushes': 18,\n",
       " 'Woodpeckers': 10}"
      ]
     },
     "execution_count": 18,
     "metadata": {},
     "output_type": "execute_result"
    }
   ],
   "source": [
    "birdInt"
   ]
  },
  {
   "cell_type": "markdown",
   "metadata": {},
   "source": [
    "What if we want to get something in our dictionary that doesn't exist? For example, our diligent, narratively exquisite ornithologists didn't see any hawks."
   ]
  },
  {
   "cell_type": "code",
   "execution_count": 19,
   "metadata": {
    "collapsed": false
   },
   "outputs": [],
   "source": [
    "birdInt.get('Hawks')"
   ]
  },
  {
   "cell_type": "markdown",
   "metadata": {},
   "source": [
    "Unfortunately, we didn't see them, and the dictionary doesn't supply any information to us to indicate that. So, when using the .get() method, you can optionally supply an argument that returns a specific value if the key is not found:"
   ]
  },
  {
   "cell_type": "code",
   "execution_count": 20,
   "metadata": {
    "collapsed": false
   },
   "outputs": [
    {
     "data": {
      "text/plain": [
       "-999"
      ]
     },
     "execution_count": 20,
     "metadata": {},
     "output_type": "execute_result"
    }
   ],
   "source": [
    "birdInt.get('Hawks',-999)"
   ]
  },
  {
   "cell_type": "markdown",
   "metadata": {},
   "source": [
    "Now, let's combine it with the things we've been doing in Pandas by making this dictionary a DataFrame. Import the libraries:"
   ]
  },
  {
   "cell_type": "code",
   "execution_count": 21,
   "metadata": {
    "collapsed": true
   },
   "outputs": [],
   "source": [
    "import pandas as pd\n",
    "import numpy as np"
   ]
  },
  {
   "cell_type": "markdown",
   "metadata": {},
   "source": [
    "We're going to use a new method, .from_dict(). This allows you to create a DataFrame from a dictionary. If you're curious about how it works, remember to try 'pd.DataFrame.from_dict?'\n",
    "\n",
    "Basically, we are going to use two arguments: the dictionary (which in this case is called birdInt), and telling Pandas how to orient the dataframe. We want to continue using the key as our index, so we'll orient it as such:"
   ]
  },
  {
   "cell_type": "code",
   "execution_count": 22,
   "metadata": {
    "collapsed": false
   },
   "outputs": [],
   "source": [
    "birdData = pd.DataFrame.from_dict(birdInt,orient='index')"
   ]
  },
  {
   "cell_type": "markdown",
   "metadata": {},
   "source": [
    "Rename the index..."
   ]
  },
  {
   "cell_type": "code",
   "execution_count": 23,
   "metadata": {
    "collapsed": false
   },
   "outputs": [],
   "source": [
    "birdData.index.name = 'BirdType'"
   ]
  },
  {
   "cell_type": "markdown",
   "metadata": {},
   "source": [
    "Remember in lesson 3 when we used the .rename() method to rename the columns? If we're willing to rename all of them at once (in this case we have only one) we can pass a list of names to the columns property.\n",
    "\n",
    "So, let's rename the column(s)..."
   ]
  },
  {
   "cell_type": "code",
   "execution_count": 24,
   "metadata": {
    "collapsed": false
   },
   "outputs": [],
   "source": [
    "birdData.columns = ['BirdCount']"
   ]
  },
  {
   "cell_type": "markdown",
   "metadata": {},
   "source": [
    "Sort the index, but instead of reassigning it to the variable again, `.sort_index()` is a method that allows the argument `inplace='True'` so the index is sorted and written back *in place*."
   ]
  },
  {
   "cell_type": "code",
   "execution_count": 25,
   "metadata": {
    "collapsed": false
   },
   "outputs": [],
   "source": [
    "birdData.sort_index(inplace='True')"
   ]
  },
  {
   "cell_type": "markdown",
   "metadata": {},
   "source": [
    "Now we are left with something that should look very familiar:"
   ]
  },
  {
   "cell_type": "code",
   "execution_count": 26,
   "metadata": {
    "collapsed": false
   },
   "outputs": [
    {
     "data": {
      "text/html": [
       "<div>\n",
       "<table border=\"1\" class=\"dataframe\">\n",
       "  <thead>\n",
       "    <tr style=\"text-align: right;\">\n",
       "      <th></th>\n",
       "      <th>BirdCount</th>\n",
       "    </tr>\n",
       "    <tr>\n",
       "      <th>BirdType</th>\n",
       "      <th></th>\n",
       "    </tr>\n",
       "  </thead>\n",
       "  <tbody>\n",
       "    <tr>\n",
       "      <th>Doves</th>\n",
       "      <td>62</td>\n",
       "    </tr>\n",
       "    <tr>\n",
       "      <th>Finches</th>\n",
       "      <td>45</td>\n",
       "    </tr>\n",
       "    <tr>\n",
       "      <th>Owls</th>\n",
       "      <td>5</td>\n",
       "    </tr>\n",
       "    <tr>\n",
       "      <th>Robins</th>\n",
       "      <td>35</td>\n",
       "    </tr>\n",
       "    <tr>\n",
       "      <th>Thrushes</th>\n",
       "      <td>18</td>\n",
       "    </tr>\n",
       "    <tr>\n",
       "      <th>Woodpeckers</th>\n",
       "      <td>10</td>\n",
       "    </tr>\n",
       "  </tbody>\n",
       "</table>\n",
       "</div>"
      ],
      "text/plain": [
       "             BirdCount\n",
       "BirdType              \n",
       "Doves               62\n",
       "Finches             45\n",
       "Owls                 5\n",
       "Robins              35\n",
       "Thrushes            18\n",
       "Woodpeckers         10"
      ]
     },
     "execution_count": 26,
     "metadata": {},
     "output_type": "execute_result"
    }
   ],
   "source": [
    "birdData"
   ]
  },
  {
   "cell_type": "code",
   "execution_count": null,
   "metadata": {
    "collapsed": true
   },
   "outputs": [],
   "source": []
  },
  {
   "cell_type": "code",
   "execution_count": null,
   "metadata": {
    "collapsed": true
   },
   "outputs": [],
   "source": []
  },
  {
   "cell_type": "code",
   "execution_count": null,
   "metadata": {
    "collapsed": true
   },
   "outputs": [],
   "source": []
  }
 ],
 "metadata": {
  "anaconda-cloud": {},
  "kernelspec": {
   "display_name": "Python 2",
   "language": "python",
   "name": "python2"
  },
  "language_info": {
   "codemirror_mode": {
    "name": "ipython",
    "version": 2
   },
   "file_extension": ".py",
   "mimetype": "text/x-python",
   "name": "python",
   "nbconvert_exporter": "python",
   "pygments_lexer": "ipython2",
   "version": "2.7.10"
  }
 },
 "nbformat": 4,
 "nbformat_minor": 0
}
