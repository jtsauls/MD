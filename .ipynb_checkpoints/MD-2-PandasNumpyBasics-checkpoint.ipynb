{
 "cells": [
  {
   "cell_type": "markdown",
   "metadata": {},
   "source": [
    "First deal with the imports. Import pandas and numpy. Use the shortcut/alias names to be easier, and these are universally written this way."
   ]
  },
  {
   "cell_type": "code",
   "execution_count": 1,
   "metadata": {
    "collapsed": true
   },
   "outputs": [],
   "source": [
    "import pandas as pd\n",
    "import numpy as np"
   ]
  },
  {
   "cell_type": "markdown",
   "metadata": {},
   "source": [
    "Below, we are importing a list of integers. In this case, it might be grades for a test. Here we use the Pandas library (pd) to create a Pandas object called a _Series_."
   ]
  },
  {
   "cell_type": "code",
   "execution_count": 2,
   "metadata": {
    "collapsed": true
   },
   "outputs": [],
   "source": [
    "series_a = pd.Series([90,85,88,86,91,79,82,65,88,87,96])"
   ]
  },
  {
   "cell_type": "markdown",
   "metadata": {},
   "source": [
    "If you are familiar with tabular data (CSV, Excel, Google Sheets, etc.) a series is similar to a single column. Similar in that it has a single column of values, but automatically assigns an index to the values as well. This is SUPER important - Pandas LOVES a good index."
   ]
  },
  {
   "cell_type": "code",
   "execution_count": 3,
   "metadata": {
    "collapsed": false
   },
   "outputs": [
    {
     "data": {
      "text/plain": [
       "0     90\n",
       "1     85\n",
       "2     88\n",
       "3     86\n",
       "4     91\n",
       "5     79\n",
       "6     82\n",
       "7     65\n",
       "8     88\n",
       "9     87\n",
       "10    96\n",
       "dtype: int64"
      ]
     },
     "execution_count": 3,
     "metadata": {},
     "output_type": "execute_result"
    }
   ],
   "source": [
    "series_a"
   ]
  },
  {
   "cell_type": "markdown",
   "metadata": {},
   "source": [
    "Pandas provides some methods to series. Here we can easily calculate the mean and median."
   ]
  },
  {
   "cell_type": "code",
   "execution_count": 4,
   "metadata": {
    "collapsed": false
   },
   "outputs": [
    {
     "name": "stdout",
     "output_type": "stream",
     "text": [
      "85.1818181818\n",
      "87.0\n"
     ]
    }
   ],
   "source": [
    "print series_a.mean()\n",
    "print series_a.median()"
   ]
  },
  {
   "cell_type": "markdown",
   "metadata": {},
   "source": [
    "_really awesome_"
   ]
  },
  {
   "cell_type": "markdown",
   "metadata": {},
   "source": [
    "You can even drop duplicate values. If you are curious about what is available to you, press `tab` after the series name and see the methods available. This is the .drop_duplicates() method. It will drop any entries whose values have already been represented above it. Notice that the second 88 is dropped?"
   ]
  },
  {
   "cell_type": "code",
   "execution_count": 5,
   "metadata": {
    "collapsed": false
   },
   "outputs": [
    {
     "data": {
      "text/plain": [
       "0     90\n",
       "1     85\n",
       "2     88\n",
       "3     86\n",
       "4     91\n",
       "5     79\n",
       "6     82\n",
       "7     65\n",
       "9     87\n",
       "10    96\n",
       "dtype: int64"
      ]
     },
     "execution_count": 5,
     "metadata": {},
     "output_type": "execute_result"
    }
   ],
   "source": [
    "series_a.drop_duplicates()"
   ]
  },
  {
   "cell_type": "markdown",
   "metadata": {},
   "source": [
    "For the most part, unless you say specifically, the functions are not destructive. Even though we dropped the duplicates, they're still in there when we call the Series."
   ]
  },
  {
   "cell_type": "code",
   "execution_count": 6,
   "metadata": {
    "collapsed": false
   },
   "outputs": [
    {
     "data": {
      "text/plain": [
       "0     90\n",
       "1     85\n",
       "2     88\n",
       "3     86\n",
       "4     91\n",
       "5     79\n",
       "6     82\n",
       "7     65\n",
       "8     88\n",
       "9     87\n",
       "10    96\n",
       "dtype: int64"
      ]
     },
     "execution_count": 6,
     "metadata": {},
     "output_type": "execute_result"
    }
   ],
   "source": [
    "series_a"
   ]
  },
  {
   "cell_type": "markdown",
   "metadata": {},
   "source": [
    "Let's assign some usernames. First establish a list. Then, like before, we pass that list to Pandas and create a Series:"
   ]
  },
  {
   "cell_type": "code",
   "execution_count": 7,
   "metadata": {
    "collapsed": true
   },
   "outputs": [],
   "source": [
    "student_names = pd.Series(['WHARTNE','PTROUGH','JPERTWE','TBAKER','PDAVISO','CBAKER',\n",
    "                 'SMCCOY','PMCGANN','CECCLES','DTENNAN','MSMITH','PCAPALD'])"
   ]
  },
  {
   "cell_type": "markdown",
   "metadata": {},
   "source": [
    "Also, like before, Pandas has assigned an index to our list."
   ]
  },
  {
   "cell_type": "code",
   "execution_count": 8,
   "metadata": {
    "collapsed": false
   },
   "outputs": [
    {
     "data": {
      "text/plain": [
       "0     WHARTNE\n",
       "1     PTROUGH\n",
       "2     JPERTWE\n",
       "3      TBAKER\n",
       "4     PDAVISO\n",
       "5      CBAKER\n",
       "6      SMCCOY\n",
       "7     PMCGANN\n",
       "8     CECCLES\n",
       "9     DTENNAN\n",
       "10     MSMITH\n",
       "11    PCAPALD\n",
       "dtype: object"
      ]
     },
     "execution_count": 8,
     "metadata": {},
     "output_type": "execute_result"
    }
   ],
   "source": [
    "student_names"
   ]
  },
  {
   "cell_type": "markdown",
   "metadata": {},
   "source": [
    "By using dictionaries (another python object) we can concatenate two series together on a specific axis, and name the columns at the same time. Below, we are creating an object called a DataFrame from two Series. Simply put, a DataFrame is a Series of one or more Series. In this case, we are aligning them as columns next to each other, so we are saying axis = 1.\n"
   ]
  },
  {
   "cell_type": "markdown",
   "metadata": {},
   "source": [
    "_I think it would be good to give dictionaries their own little time here. This is python's hashable datatype, and most beginner's code could be made way more efficient by using dictionaries properly, rather than lists of lists and trying to keep track of indicies._"
   ]
  },
  {
   "cell_type": "code",
   "execution_count": 12,
   "metadata": {
    "collapsed": false
   },
   "outputs": [
    {
     "data": {
      "text/html": [
       "<div>\n",
       "<table border=\"1\" class=\"dataframe\">\n",
       "  <thead>\n",
       "    <tr style=\"text-align: right;\">\n",
       "      <th></th>\n",
       "      <th>Midterm</th>\n",
       "      <th>Names</th>\n",
       "    </tr>\n",
       "  </thead>\n",
       "  <tbody>\n",
       "    <tr>\n",
       "      <th>0</th>\n",
       "      <td>90</td>\n",
       "      <td>WHARTNE</td>\n",
       "    </tr>\n",
       "    <tr>\n",
       "      <th>1</th>\n",
       "      <td>85</td>\n",
       "      <td>PTROUGH</td>\n",
       "    </tr>\n",
       "    <tr>\n",
       "      <th>2</th>\n",
       "      <td>88</td>\n",
       "      <td>JPERTWE</td>\n",
       "    </tr>\n",
       "    <tr>\n",
       "      <th>3</th>\n",
       "      <td>86</td>\n",
       "      <td>TBAKER</td>\n",
       "    </tr>\n",
       "    <tr>\n",
       "      <th>4</th>\n",
       "      <td>91</td>\n",
       "      <td>PDAVISO</td>\n",
       "    </tr>\n",
       "    <tr>\n",
       "      <th>5</th>\n",
       "      <td>79</td>\n",
       "      <td>CBAKER</td>\n",
       "    </tr>\n",
       "    <tr>\n",
       "      <th>6</th>\n",
       "      <td>82</td>\n",
       "      <td>SMCCOY</td>\n",
       "    </tr>\n",
       "    <tr>\n",
       "      <th>7</th>\n",
       "      <td>65</td>\n",
       "      <td>PMCGANN</td>\n",
       "    </tr>\n",
       "    <tr>\n",
       "      <th>8</th>\n",
       "      <td>88</td>\n",
       "      <td>CECCLES</td>\n",
       "    </tr>\n",
       "    <tr>\n",
       "      <th>9</th>\n",
       "      <td>87</td>\n",
       "      <td>DTENNAN</td>\n",
       "    </tr>\n",
       "    <tr>\n",
       "      <th>10</th>\n",
       "      <td>96</td>\n",
       "      <td>MSMITH</td>\n",
       "    </tr>\n",
       "    <tr>\n",
       "      <th>11</th>\n",
       "      <td>NaN</td>\n",
       "      <td>PCAPALD</td>\n",
       "    </tr>\n",
       "  </tbody>\n",
       "</table>\n",
       "</div>"
      ],
      "text/plain": [
       "    Midterm    Names\n",
       "0        90  WHARTNE\n",
       "1        85  PTROUGH\n",
       "2        88  JPERTWE\n",
       "3        86   TBAKER\n",
       "4        91  PDAVISO\n",
       "5        79   CBAKER\n",
       "6        82   SMCCOY\n",
       "7        65  PMCGANN\n",
       "8        88  CECCLES\n",
       "9        87  DTENNAN\n",
       "10       96   MSMITH\n",
       "11      NaN  PCAPALD"
      ]
     },
     "execution_count": 12,
     "metadata": {},
     "output_type": "execute_result"
    }
   ],
   "source": [
    "grades = pd.concat({'Names':student_names, 'Midterm':series_a}, axis=1)\n",
    "grades\n",
    "# grades.transpose().sort_index(ascending=False)"
   ]
  },
  {
   "cell_type": "markdown",
   "metadata": {},
   "source": [
    "If you are confused about **axis=0** vs. **axis=1**, watch what happens when we .concat() on **axis=0**:"
   ]
  },
  {
   "cell_type": "code",
   "execution_count": 10,
   "metadata": {
    "collapsed": false
   },
   "outputs": [
    {
     "data": {
      "text/plain": [
       "0          90\n",
       "1          85\n",
       "2          88\n",
       "3          86\n",
       "4          91\n",
       "5          79\n",
       "6          82\n",
       "7          65\n",
       "8          88\n",
       "9          87\n",
       "10         96\n",
       "0     WHARTNE\n",
       "1     PTROUGH\n",
       "2     JPERTWE\n",
       "3      TBAKER\n",
       "4     PDAVISO\n",
       "5      CBAKER\n",
       "6      SMCCOY\n",
       "7     PMCGANN\n",
       "8     CECCLES\n",
       "9     DTENNAN\n",
       "10     MSMITH\n",
       "11    PCAPALD\n",
       "dtype: object"
      ]
     },
     "execution_count": 10,
     "metadata": {},
     "output_type": "execute_result"
    }
   ],
   "source": [
    "axisTest = pd.concat([series_a, student_names], axis=0)\n",
    "axisTest"
   ]
  },
  {
   "cell_type": "markdown",
   "metadata": {},
   "source": [
    "I like to think of axis=0 as being vertical - you are adding rows to a Series or Dataframe at the bottom of the current object. By contrast, axis=1 is horizontal. You are adding columns to the right of the current object. *I hope that didn't confuse matters further.*"
   ]
  },
  {
   "cell_type": "markdown",
   "metadata": {},
   "source": [
    "When concatenating Series into a DataFrame, Pandas will do its best to align them by the index. In this case, however, we have more names than grades. Pandas and NumPy know this, and added a 'NaN' where data was missing. 'NaN' is NumPy's way of saying there is **N**ot **a** **N**umber here, and should be recognized as being invalid.\n",
    "\n",
    "To correct this cell, it should be a simple matter of providing the coordinates of the cell, and assigning the value.\n",
    "\n",
    "..._well, it should be easy..._"
   ]
  },
  {
   "cell_type": "code",
   "execution_count": 14,
   "metadata": {
    "collapsed": false
   },
   "outputs": [
    {
     "data": {
      "text/html": [
       "<div>\n",
       "<table border=\"1\" class=\"dataframe\">\n",
       "  <thead>\n",
       "    <tr style=\"text-align: right;\">\n",
       "      <th></th>\n",
       "      <th>Midterm</th>\n",
       "      <th>Names</th>\n",
       "      <th>(1, 11)</th>\n",
       "    </tr>\n",
       "  </thead>\n",
       "  <tbody>\n",
       "    <tr>\n",
       "      <th>0</th>\n",
       "      <td>90</td>\n",
       "      <td>WHARTNE</td>\n",
       "      <td>85</td>\n",
       "    </tr>\n",
       "    <tr>\n",
       "      <th>1</th>\n",
       "      <td>85</td>\n",
       "      <td>PTROUGH</td>\n",
       "      <td>85</td>\n",
       "    </tr>\n",
       "    <tr>\n",
       "      <th>2</th>\n",
       "      <td>88</td>\n",
       "      <td>JPERTWE</td>\n",
       "      <td>85</td>\n",
       "    </tr>\n",
       "    <tr>\n",
       "      <th>3</th>\n",
       "      <td>86</td>\n",
       "      <td>TBAKER</td>\n",
       "      <td>85</td>\n",
       "    </tr>\n",
       "    <tr>\n",
       "      <th>4</th>\n",
       "      <td>91</td>\n",
       "      <td>PDAVISO</td>\n",
       "      <td>85</td>\n",
       "    </tr>\n",
       "    <tr>\n",
       "      <th>5</th>\n",
       "      <td>79</td>\n",
       "      <td>CBAKER</td>\n",
       "      <td>85</td>\n",
       "    </tr>\n",
       "    <tr>\n",
       "      <th>6</th>\n",
       "      <td>82</td>\n",
       "      <td>SMCCOY</td>\n",
       "      <td>85</td>\n",
       "    </tr>\n",
       "    <tr>\n",
       "      <th>7</th>\n",
       "      <td>65</td>\n",
       "      <td>PMCGANN</td>\n",
       "      <td>85</td>\n",
       "    </tr>\n",
       "    <tr>\n",
       "      <th>8</th>\n",
       "      <td>88</td>\n",
       "      <td>CECCLES</td>\n",
       "      <td>85</td>\n",
       "    </tr>\n",
       "    <tr>\n",
       "      <th>9</th>\n",
       "      <td>87</td>\n",
       "      <td>DTENNAN</td>\n",
       "      <td>85</td>\n",
       "    </tr>\n",
       "    <tr>\n",
       "      <th>10</th>\n",
       "      <td>96</td>\n",
       "      <td>MSMITH</td>\n",
       "      <td>85</td>\n",
       "    </tr>\n",
       "    <tr>\n",
       "      <th>11</th>\n",
       "      <td>NaN</td>\n",
       "      <td>PCAPALD</td>\n",
       "      <td>85</td>\n",
       "    </tr>\n",
       "  </tbody>\n",
       "</table>\n",
       "</div>"
      ],
      "text/plain": [
       "    Midterm    Names  (1, 11)\n",
       "0        90  WHARTNE       85\n",
       "1        85  PTROUGH       85\n",
       "2        88  JPERTWE       85\n",
       "3        86   TBAKER       85\n",
       "4        91  PDAVISO       85\n",
       "5        79   CBAKER       85\n",
       "6        82   SMCCOY       85\n",
       "7        65  PMCGANN       85\n",
       "8        88  CECCLES       85\n",
       "9        87  DTENNAN       85\n",
       "10       96   MSMITH       85\n",
       "11      NaN  PCAPALD       85"
      ]
     },
     "execution_count": 14,
     "metadata": {},
     "output_type": "execute_result"
    }
   ],
   "source": [
    "grades[1,11] = 85\n",
    "grades"
   ]
  },
  {
   "cell_type": "markdown",
   "metadata": {},
   "source": [
    "Since we did not format the cell coordinates correctly, Pandas assumed that we were creating a new column and setting its values to the grade specified. That obviously didn't work, so let's delete it using the drop method. Be sure to specify the axis, in case you have a row named the same as one of your columns (hey, it's possible). Also, let's reassign the edited DataFrame back to itself. Otherwise, the drop function just returns a **view** of the grades DataFrame with the column dropped, without actually dropping it."
   ]
  },
  {
   "cell_type": "code",
   "execution_count": 15,
   "metadata": {
    "collapsed": false
   },
   "outputs": [],
   "source": [
    "grades = grades.drop((1,11),axis=1)"
   ]
  },
  {
   "cell_type": "code",
   "execution_count": 16,
   "metadata": {
    "collapsed": false
   },
   "outputs": [
    {
     "data": {
      "text/html": [
       "<div>\n",
       "<table border=\"1\" class=\"dataframe\">\n",
       "  <thead>\n",
       "    <tr style=\"text-align: right;\">\n",
       "      <th></th>\n",
       "      <th>Midterm</th>\n",
       "      <th>Names</th>\n",
       "    </tr>\n",
       "  </thead>\n",
       "  <tbody>\n",
       "    <tr>\n",
       "      <th>0</th>\n",
       "      <td>90</td>\n",
       "      <td>WHARTNE</td>\n",
       "    </tr>\n",
       "    <tr>\n",
       "      <th>1</th>\n",
       "      <td>85</td>\n",
       "      <td>PTROUGH</td>\n",
       "    </tr>\n",
       "    <tr>\n",
       "      <th>2</th>\n",
       "      <td>88</td>\n",
       "      <td>JPERTWE</td>\n",
       "    </tr>\n",
       "    <tr>\n",
       "      <th>3</th>\n",
       "      <td>86</td>\n",
       "      <td>TBAKER</td>\n",
       "    </tr>\n",
       "    <tr>\n",
       "      <th>4</th>\n",
       "      <td>91</td>\n",
       "      <td>PDAVISO</td>\n",
       "    </tr>\n",
       "    <tr>\n",
       "      <th>5</th>\n",
       "      <td>79</td>\n",
       "      <td>CBAKER</td>\n",
       "    </tr>\n",
       "    <tr>\n",
       "      <th>6</th>\n",
       "      <td>82</td>\n",
       "      <td>SMCCOY</td>\n",
       "    </tr>\n",
       "    <tr>\n",
       "      <th>7</th>\n",
       "      <td>65</td>\n",
       "      <td>PMCGANN</td>\n",
       "    </tr>\n",
       "    <tr>\n",
       "      <th>8</th>\n",
       "      <td>88</td>\n",
       "      <td>CECCLES</td>\n",
       "    </tr>\n",
       "    <tr>\n",
       "      <th>9</th>\n",
       "      <td>87</td>\n",
       "      <td>DTENNAN</td>\n",
       "    </tr>\n",
       "    <tr>\n",
       "      <th>10</th>\n",
       "      <td>96</td>\n",
       "      <td>MSMITH</td>\n",
       "    </tr>\n",
       "    <tr>\n",
       "      <th>11</th>\n",
       "      <td>NaN</td>\n",
       "      <td>PCAPALD</td>\n",
       "    </tr>\n",
       "  </tbody>\n",
       "</table>\n",
       "</div>"
      ],
      "text/plain": [
       "    Midterm    Names\n",
       "0        90  WHARTNE\n",
       "1        85  PTROUGH\n",
       "2        88  JPERTWE\n",
       "3        86   TBAKER\n",
       "4        91  PDAVISO\n",
       "5        79   CBAKER\n",
       "6        82   SMCCOY\n",
       "7        65  PMCGANN\n",
       "8        88  CECCLES\n",
       "9        87  DTENNAN\n",
       "10       96   MSMITH\n",
       "11      NaN  PCAPALD"
      ]
     },
     "execution_count": 16,
     "metadata": {},
     "output_type": "execute_result"
    }
   ],
   "source": [
    "grades"
   ]
  },
  {
   "cell_type": "markdown",
   "metadata": {},
   "source": [
    "Now, let's look at ways to index into a Series and DataFrame. There are three indexing methods:\n",
    "- .ix[]\n",
    "- .loc[]\n",
    "- .iloc[]\n",
    "\n",
    "The first, .ix[] is the most friendly. It will first attempt to look up what you provide as a string, and if it can't find the string, look up based upon integer. "
   ]
  },
  {
   "cell_type": "markdown",
   "metadata": {},
   "source": [
    "_Is this accurate? I thought ix was just for \"index x\", and if you provided any secondary stuff it would try to pull out the right column. Maybe that is what you are saying, but didn't write down that the first number is just the x (row) index_"
   ]
  },
  {
   "cell_type": "code",
   "execution_count": 23,
   "metadata": {
    "collapsed": false,
    "scrolled": true
   },
   "outputs": [
    {
     "data": {
      "text/plain": [
       "Midterm         65\n",
       "Names      PMCGANN\n",
       "Name: 7, dtype: object"
      ]
     },
     "execution_count": 23,
     "metadata": {},
     "output_type": "execute_result"
    }
   ],
   "source": [
    "grades.ix[7]"
   ]
  },
  {
   "cell_type": "markdown",
   "metadata": {},
   "source": [
    "We have used the .ix[] and supplied the row with the index 7, and the column 'Midterm'. For now, something like this is as simple as we need to be. We will DEFINITELY be coming back to this...\n",
    "\n",
    "In the meantime, let's fill that space with a grade using '=', the assignment operator."
   ]
  },
  {
   "cell_type": "code",
   "execution_count": 24,
   "metadata": {
    "collapsed": false
   },
   "outputs": [],
   "source": [
    "grades.ix[11,'Midterm'] = 85"
   ]
  },
  {
   "cell_type": "markdown",
   "metadata": {},
   "source": [
    "Checking the DataFrame, we can see that the grade is in the right place."
   ]
  },
  {
   "cell_type": "code",
   "execution_count": 25,
   "metadata": {
    "collapsed": false
   },
   "outputs": [
    {
     "data": {
      "text/html": [
       "<div>\n",
       "<table border=\"1\" class=\"dataframe\">\n",
       "  <thead>\n",
       "    <tr style=\"text-align: right;\">\n",
       "      <th></th>\n",
       "      <th>Midterm</th>\n",
       "      <th>Names</th>\n",
       "    </tr>\n",
       "  </thead>\n",
       "  <tbody>\n",
       "    <tr>\n",
       "      <th>0</th>\n",
       "      <td>90</td>\n",
       "      <td>WHARTNE</td>\n",
       "    </tr>\n",
       "    <tr>\n",
       "      <th>1</th>\n",
       "      <td>85</td>\n",
       "      <td>PTROUGH</td>\n",
       "    </tr>\n",
       "    <tr>\n",
       "      <th>2</th>\n",
       "      <td>88</td>\n",
       "      <td>JPERTWE</td>\n",
       "    </tr>\n",
       "    <tr>\n",
       "      <th>3</th>\n",
       "      <td>86</td>\n",
       "      <td>TBAKER</td>\n",
       "    </tr>\n",
       "    <tr>\n",
       "      <th>4</th>\n",
       "      <td>91</td>\n",
       "      <td>PDAVISO</td>\n",
       "    </tr>\n",
       "    <tr>\n",
       "      <th>5</th>\n",
       "      <td>79</td>\n",
       "      <td>CBAKER</td>\n",
       "    </tr>\n",
       "    <tr>\n",
       "      <th>6</th>\n",
       "      <td>82</td>\n",
       "      <td>SMCCOY</td>\n",
       "    </tr>\n",
       "    <tr>\n",
       "      <th>7</th>\n",
       "      <td>65</td>\n",
       "      <td>PMCGANN</td>\n",
       "    </tr>\n",
       "    <tr>\n",
       "      <th>8</th>\n",
       "      <td>88</td>\n",
       "      <td>CECCLES</td>\n",
       "    </tr>\n",
       "    <tr>\n",
       "      <th>9</th>\n",
       "      <td>87</td>\n",
       "      <td>DTENNAN</td>\n",
       "    </tr>\n",
       "    <tr>\n",
       "      <th>10</th>\n",
       "      <td>96</td>\n",
       "      <td>MSMITH</td>\n",
       "    </tr>\n",
       "    <tr>\n",
       "      <th>11</th>\n",
       "      <td>85</td>\n",
       "      <td>PCAPALD</td>\n",
       "    </tr>\n",
       "  </tbody>\n",
       "</table>\n",
       "</div>"
      ],
      "text/plain": [
       "    Midterm    Names\n",
       "0        90  WHARTNE\n",
       "1        85  PTROUGH\n",
       "2        88  JPERTWE\n",
       "3        86   TBAKER\n",
       "4        91  PDAVISO\n",
       "5        79   CBAKER\n",
       "6        82   SMCCOY\n",
       "7        65  PMCGANN\n",
       "8        88  CECCLES\n",
       "9        87  DTENNAN\n",
       "10       96   MSMITH\n",
       "11       85  PCAPALD"
      ]
     },
     "execution_count": 25,
     "metadata": {},
     "output_type": "execute_result"
    }
   ],
   "source": [
    "grades"
   ]
  },
  {
   "cell_type": "markdown",
   "metadata": {},
   "source": [
    "We can also check the datatypes of the variables thus far:"
   ]
  },
  {
   "cell_type": "code",
   "execution_count": 26,
   "metadata": {
    "collapsed": false
   },
   "outputs": [
    {
     "data": {
      "text/plain": [
       "pandas.core.series.Series"
      ]
     },
     "execution_count": 26,
     "metadata": {},
     "output_type": "execute_result"
    }
   ],
   "source": [
    "type(series_a)"
   ]
  },
  {
   "cell_type": "code",
   "execution_count": 27,
   "metadata": {
    "collapsed": false
   },
   "outputs": [
    {
     "data": {
      "text/plain": [
       "pandas.core.frame.DataFrame"
      ]
     },
     "execution_count": 27,
     "metadata": {},
     "output_type": "execute_result"
    }
   ],
   "source": [
    "type(grades)"
   ]
  },
  {
   "cell_type": "markdown",
   "metadata": {},
   "source": [
    "The .info() method provides a little more detail about the object. In this case, we'll look at the grades DataFrame."
   ]
  },
  {
   "cell_type": "code",
   "execution_count": 28,
   "metadata": {
    "collapsed": false
   },
   "outputs": [
    {
     "name": "stdout",
     "output_type": "stream",
     "text": [
      "<class 'pandas.core.frame.DataFrame'>\n",
      "Int64Index: 12 entries, 0 to 11\n",
      "Data columns (total 2 columns):\n",
      "Midterm    12 non-null float64\n",
      "Names      12 non-null object\n",
      "dtypes: float64(1), object(1)\n",
      "memory usage: 288.0+ bytes\n"
     ]
    }
   ],
   "source": [
    "grades.info() # this is cool i did not know about this"
   ]
  },
  {
   "cell_type": "markdown",
   "metadata": {},
   "source": [
    "We can see information about the column heads."
   ]
  },
  {
   "cell_type": "code",
   "execution_count": 29,
   "metadata": {
    "collapsed": false
   },
   "outputs": [
    {
     "data": {
      "text/plain": [
       "Index([u'Midterm', u'Names'], dtype='object')"
      ]
     },
     "execution_count": 29,
     "metadata": {},
     "output_type": "execute_result"
    }
   ],
   "source": [
    "grades.columns"
   ]
  },
  {
   "cell_type": "markdown",
   "metadata": {},
   "source": [
    "Here is some statistical information about the numerical column(s)."
   ]
  },
  {
   "cell_type": "code",
   "execution_count": 30,
   "metadata": {
    "collapsed": false
   },
   "outputs": [
    {
     "data": {
      "text/html": [
       "<div>\n",
       "<table border=\"1\" class=\"dataframe\">\n",
       "  <thead>\n",
       "    <tr style=\"text-align: right;\">\n",
       "      <th></th>\n",
       "      <th>Midterm</th>\n",
       "    </tr>\n",
       "  </thead>\n",
       "  <tbody>\n",
       "    <tr>\n",
       "      <th>count</th>\n",
       "      <td>12.000000</td>\n",
       "    </tr>\n",
       "    <tr>\n",
       "      <th>mean</th>\n",
       "      <td>85.166667</td>\n",
       "    </tr>\n",
       "    <tr>\n",
       "      <th>std</th>\n",
       "      <td>7.685090</td>\n",
       "    </tr>\n",
       "    <tr>\n",
       "      <th>min</th>\n",
       "      <td>65.000000</td>\n",
       "    </tr>\n",
       "    <tr>\n",
       "      <th>25%</th>\n",
       "      <td>84.250000</td>\n",
       "    </tr>\n",
       "    <tr>\n",
       "      <th>50%</th>\n",
       "      <td>86.500000</td>\n",
       "    </tr>\n",
       "    <tr>\n",
       "      <th>75%</th>\n",
       "      <td>88.500000</td>\n",
       "    </tr>\n",
       "    <tr>\n",
       "      <th>max</th>\n",
       "      <td>96.000000</td>\n",
       "    </tr>\n",
       "  </tbody>\n",
       "</table>\n",
       "</div>"
      ],
      "text/plain": [
       "         Midterm\n",
       "count  12.000000\n",
       "mean   85.166667\n",
       "std     7.685090\n",
       "min    65.000000\n",
       "25%    84.250000\n",
       "50%    86.500000\n",
       "75%    88.500000\n",
       "max    96.000000"
      ]
     },
     "execution_count": 30,
     "metadata": {},
     "output_type": "execute_result"
    }
   ],
   "source": [
    "grades.describe() # this is super helpful. "
   ]
  },
  {
   "cell_type": "markdown",
   "metadata": {},
   "source": [
    "Masking\n",
    "--\n",
    "Masking is a way of hiding (or showing) cells based upon a Series/DataFrame of boolean (True/False) values. It is a very powerful way to do queries, provided you are willing to do a little work on the front end."
   ]
  },
  {
   "cell_type": "markdown",
   "metadata": {},
   "source": [
    "Perhaps, we want to see every row where the 'Midterm' is greater than 85."
   ]
  },
  {
   "cell_type": "code",
   "execution_count": 40,
   "metadata": {
    "collapsed": false
   },
   "outputs": [
    {
     "data": {
      "text/plain": [
       "0      True\n",
       "1     False\n",
       "2      True\n",
       "3      True\n",
       "4      True\n",
       "5     False\n",
       "6     False\n",
       "7     False\n",
       "8      True\n",
       "9      True\n",
       "10     True\n",
       "11    False\n",
       "Name: Midterm, dtype: bool"
      ]
     },
     "execution_count": 40,
     "metadata": {},
     "output_type": "execute_result"
    }
   ],
   "source": [
    "grade_threshold = 85\n",
    "grades['Midterm'] > grade_threshold"
   ]
  },
  {
   "cell_type": "markdown",
   "metadata": {},
   "source": [
    "We can also assign this list of boolean values to a variable, and use it as a mask."
   ]
  },
  {
   "cell_type": "code",
   "execution_count": 41,
   "metadata": {
    "collapsed": false,
    "scrolled": true
   },
   "outputs": [
    {
     "data": {
      "text/html": [
       "<div>\n",
       "<table border=\"1\" class=\"dataframe\">\n",
       "  <thead>\n",
       "    <tr style=\"text-align: right;\">\n",
       "      <th></th>\n",
       "      <th>Midterm</th>\n",
       "      <th>Names</th>\n",
       "    </tr>\n",
       "  </thead>\n",
       "  <tbody>\n",
       "    <tr>\n",
       "      <th>0</th>\n",
       "      <td>90</td>\n",
       "      <td>WHARTNE</td>\n",
       "    </tr>\n",
       "    <tr>\n",
       "      <th>2</th>\n",
       "      <td>88</td>\n",
       "      <td>JPERTWE</td>\n",
       "    </tr>\n",
       "    <tr>\n",
       "      <th>3</th>\n",
       "      <td>86</td>\n",
       "      <td>TBAKER</td>\n",
       "    </tr>\n",
       "    <tr>\n",
       "      <th>4</th>\n",
       "      <td>91</td>\n",
       "      <td>PDAVISO</td>\n",
       "    </tr>\n",
       "    <tr>\n",
       "      <th>8</th>\n",
       "      <td>88</td>\n",
       "      <td>CECCLES</td>\n",
       "    </tr>\n",
       "    <tr>\n",
       "      <th>9</th>\n",
       "      <td>87</td>\n",
       "      <td>DTENNAN</td>\n",
       "    </tr>\n",
       "    <tr>\n",
       "      <th>10</th>\n",
       "      <td>96</td>\n",
       "      <td>MSMITH</td>\n",
       "    </tr>\n",
       "  </tbody>\n",
       "</table>\n",
       "</div>"
      ],
      "text/plain": [
       "    Midterm    Names\n",
       "0        90  WHARTNE\n",
       "2        88  JPERTWE\n",
       "3        86   TBAKER\n",
       "4        91  PDAVISO\n",
       "8        88  CECCLES\n",
       "9        87  DTENNAN\n",
       "10       96   MSMITH"
      ]
     },
     "execution_count": 41,
     "metadata": {},
     "output_type": "execute_result"
    }
   ],
   "source": [
    "b_threshold = grades['Midterm'] > grade_threshold\n",
    "grades[b_threshold]"
   ]
  },
  {
   "cell_type": "markdown",
   "metadata": {},
   "source": [
    "_You can also use masking back on the data frame to get out information you care about like the names_\n",
    "\n",
    "_note how the thing is the braketes is evaluated as a list of booleans that is applied to the column in the df_"
   ]
  },
  {
   "cell_type": "code",
   "execution_count": 42,
   "metadata": {
    "collapsed": false
   },
   "outputs": [
    {
     "data": {
      "text/plain": [
       "0     WHARTNE\n",
       "2     JPERTWE\n",
       "3      TBAKER\n",
       "4     PDAVISO\n",
       "8     CECCLES\n",
       "9     DTENNAN\n",
       "10     MSMITH\n",
       "Name: Names, dtype: object"
      ]
     },
     "execution_count": 42,
     "metadata": {},
     "output_type": "execute_result"
    }
   ],
   "source": [
    "grades['Names'][grades['Midterm'] > grade_threshold] "
   ]
  },
  {
   "cell_type": "markdown",
   "metadata": {},
   "source": [
    "Let's add some more grades into this class. We'll use the NumPy random integer method..."
   ]
  },
  {
   "cell_type": "code",
   "execution_count": 43,
   "metadata": {
    "collapsed": false
   },
   "outputs": [
    {
     "data": {
      "text/plain": [
       "array([72, 92, 83, 85, 76, 99, 83, 75, 76, 74, 88, 95])"
      ]
     },
     "execution_count": 43,
     "metadata": {},
     "output_type": "execute_result"
    }
   ],
   "source": [
    "np.random.randint(69,high=100,size=12)"
   ]
  },
  {
   "cell_type": "markdown",
   "metadata": {},
   "source": [
    "...and assign it to the final variable. Don't worry if your numbers look different. Each time this page is re-run, the random number generator will create a new list. In fact, this second execution is different from the first. See?"
   ]
  },
  {
   "cell_type": "code",
   "execution_count": 44,
   "metadata": {
    "collapsed": false
   },
   "outputs": [],
   "source": [
    "final = pd.Series(np.random.randint(69,high=100,size=12))"
   ]
  },
  {
   "cell_type": "code",
   "execution_count": 45,
   "metadata": {
    "collapsed": false,
    "scrolled": true
   },
   "outputs": [
    {
     "data": {
      "text/plain": [
       "0     74\n",
       "1     82\n",
       "2     84\n",
       "3     72\n",
       "4     97\n",
       "5     90\n",
       "6     79\n",
       "7     70\n",
       "8     72\n",
       "9     95\n",
       "10    85\n",
       "11    91\n",
       "dtype: int64"
      ]
     },
     "execution_count": 45,
     "metadata": {},
     "output_type": "execute_result"
    }
   ],
   "source": [
    "final"
   ]
  },
  {
   "cell_type": "markdown",
   "metadata": {},
   "source": [
    "Now, let's use the .concat() method to concatenate the grades DataFrame with the final Series on axis 1. We'll go ahead and explicitly name the columns as well."
   ]
  },
  {
   "cell_type": "code",
   "execution_count": 46,
   "metadata": {
    "collapsed": false
   },
   "outputs": [],
   "source": [
    "grades_final = pd.concat([grades,final],axis=1)\n",
    "grades_final.columns = ['Midterm','Names','Final']"
   ]
  },
  {
   "cell_type": "code",
   "execution_count": 47,
   "metadata": {
    "collapsed": false
   },
   "outputs": [
    {
     "data": {
      "text/html": [
       "<div>\n",
       "<table border=\"1\" class=\"dataframe\">\n",
       "  <thead>\n",
       "    <tr style=\"text-align: right;\">\n",
       "      <th></th>\n",
       "      <th>Midterm</th>\n",
       "      <th>Names</th>\n",
       "      <th>Final</th>\n",
       "    </tr>\n",
       "  </thead>\n",
       "  <tbody>\n",
       "    <tr>\n",
       "      <th>0</th>\n",
       "      <td>90</td>\n",
       "      <td>WHARTNE</td>\n",
       "      <td>74</td>\n",
       "    </tr>\n",
       "    <tr>\n",
       "      <th>1</th>\n",
       "      <td>85</td>\n",
       "      <td>PTROUGH</td>\n",
       "      <td>82</td>\n",
       "    </tr>\n",
       "    <tr>\n",
       "      <th>2</th>\n",
       "      <td>88</td>\n",
       "      <td>JPERTWE</td>\n",
       "      <td>84</td>\n",
       "    </tr>\n",
       "    <tr>\n",
       "      <th>3</th>\n",
       "      <td>86</td>\n",
       "      <td>TBAKER</td>\n",
       "      <td>72</td>\n",
       "    </tr>\n",
       "    <tr>\n",
       "      <th>4</th>\n",
       "      <td>91</td>\n",
       "      <td>PDAVISO</td>\n",
       "      <td>97</td>\n",
       "    </tr>\n",
       "    <tr>\n",
       "      <th>5</th>\n",
       "      <td>79</td>\n",
       "      <td>CBAKER</td>\n",
       "      <td>90</td>\n",
       "    </tr>\n",
       "    <tr>\n",
       "      <th>6</th>\n",
       "      <td>82</td>\n",
       "      <td>SMCCOY</td>\n",
       "      <td>79</td>\n",
       "    </tr>\n",
       "    <tr>\n",
       "      <th>7</th>\n",
       "      <td>65</td>\n",
       "      <td>PMCGANN</td>\n",
       "      <td>70</td>\n",
       "    </tr>\n",
       "    <tr>\n",
       "      <th>8</th>\n",
       "      <td>88</td>\n",
       "      <td>CECCLES</td>\n",
       "      <td>72</td>\n",
       "    </tr>\n",
       "    <tr>\n",
       "      <th>9</th>\n",
       "      <td>87</td>\n",
       "      <td>DTENNAN</td>\n",
       "      <td>95</td>\n",
       "    </tr>\n",
       "    <tr>\n",
       "      <th>10</th>\n",
       "      <td>96</td>\n",
       "      <td>MSMITH</td>\n",
       "      <td>85</td>\n",
       "    </tr>\n",
       "    <tr>\n",
       "      <th>11</th>\n",
       "      <td>85</td>\n",
       "      <td>PCAPALD</td>\n",
       "      <td>91</td>\n",
       "    </tr>\n",
       "  </tbody>\n",
       "</table>\n",
       "</div>"
      ],
      "text/plain": [
       "    Midterm    Names  Final\n",
       "0        90  WHARTNE     74\n",
       "1        85  PTROUGH     82\n",
       "2        88  JPERTWE     84\n",
       "3        86   TBAKER     72\n",
       "4        91  PDAVISO     97\n",
       "5        79   CBAKER     90\n",
       "6        82   SMCCOY     79\n",
       "7        65  PMCGANN     70\n",
       "8        88  CECCLES     72\n",
       "9        87  DTENNAN     95\n",
       "10       96   MSMITH     85\n",
       "11       85  PCAPALD     91"
      ]
     },
     "execution_count": 47,
     "metadata": {},
     "output_type": "execute_result"
    }
   ],
   "source": [
    "grades_final"
   ]
  },
  {
   "cell_type": "markdown",
   "metadata": {},
   "source": [
    "The index on the left doesn't make much sense in the context of the grades, so let's make the index equal to the names, and reassign to the grades_final DataFrame."
   ]
  },
  {
   "cell_type": "code",
   "execution_count": 48,
   "metadata": {
    "collapsed": false
   },
   "outputs": [],
   "source": [
    "grades_final = grades_final.set_index('Names')"
   ]
  },
  {
   "cell_type": "code",
   "execution_count": 49,
   "metadata": {
    "collapsed": false,
    "scrolled": true
   },
   "outputs": [
    {
     "data": {
      "text/html": [
       "<div>\n",
       "<table border=\"1\" class=\"dataframe\">\n",
       "  <thead>\n",
       "    <tr style=\"text-align: right;\">\n",
       "      <th></th>\n",
       "      <th>Midterm</th>\n",
       "      <th>Final</th>\n",
       "    </tr>\n",
       "    <tr>\n",
       "      <th>Names</th>\n",
       "      <th></th>\n",
       "      <th></th>\n",
       "    </tr>\n",
       "  </thead>\n",
       "  <tbody>\n",
       "    <tr>\n",
       "      <th>WHARTNE</th>\n",
       "      <td>90</td>\n",
       "      <td>74</td>\n",
       "    </tr>\n",
       "    <tr>\n",
       "      <th>PTROUGH</th>\n",
       "      <td>85</td>\n",
       "      <td>82</td>\n",
       "    </tr>\n",
       "    <tr>\n",
       "      <th>JPERTWE</th>\n",
       "      <td>88</td>\n",
       "      <td>84</td>\n",
       "    </tr>\n",
       "    <tr>\n",
       "      <th>TBAKER</th>\n",
       "      <td>86</td>\n",
       "      <td>72</td>\n",
       "    </tr>\n",
       "    <tr>\n",
       "      <th>PDAVISO</th>\n",
       "      <td>91</td>\n",
       "      <td>97</td>\n",
       "    </tr>\n",
       "    <tr>\n",
       "      <th>CBAKER</th>\n",
       "      <td>79</td>\n",
       "      <td>90</td>\n",
       "    </tr>\n",
       "    <tr>\n",
       "      <th>SMCCOY</th>\n",
       "      <td>82</td>\n",
       "      <td>79</td>\n",
       "    </tr>\n",
       "    <tr>\n",
       "      <th>PMCGANN</th>\n",
       "      <td>65</td>\n",
       "      <td>70</td>\n",
       "    </tr>\n",
       "    <tr>\n",
       "      <th>CECCLES</th>\n",
       "      <td>88</td>\n",
       "      <td>72</td>\n",
       "    </tr>\n",
       "    <tr>\n",
       "      <th>DTENNAN</th>\n",
       "      <td>87</td>\n",
       "      <td>95</td>\n",
       "    </tr>\n",
       "    <tr>\n",
       "      <th>MSMITH</th>\n",
       "      <td>96</td>\n",
       "      <td>85</td>\n",
       "    </tr>\n",
       "    <tr>\n",
       "      <th>PCAPALD</th>\n",
       "      <td>85</td>\n",
       "      <td>91</td>\n",
       "    </tr>\n",
       "  </tbody>\n",
       "</table>\n",
       "</div>"
      ],
      "text/plain": [
       "         Midterm  Final\n",
       "Names                  \n",
       "WHARTNE       90     74\n",
       "PTROUGH       85     82\n",
       "JPERTWE       88     84\n",
       "TBAKER        86     72\n",
       "PDAVISO       91     97\n",
       "CBAKER        79     90\n",
       "SMCCOY        82     79\n",
       "PMCGANN       65     70\n",
       "CECCLES       88     72\n",
       "DTENNAN       87     95\n",
       "MSMITH        96     85\n",
       "PCAPALD       85     91"
      ]
     },
     "execution_count": 49,
     "metadata": {},
     "output_type": "execute_result"
    }
   ],
   "source": [
    "grades_final"
   ]
  },
  {
   "cell_type": "markdown",
   "metadata": {},
   "source": [
    "Now, let's add another column to the DataFrame, averaging the values in each row."
   ]
  },
  {
   "cell_type": "code",
   "execution_count": 50,
   "metadata": {
    "collapsed": false
   },
   "outputs": [
    {
     "data": {
      "text/html": [
       "<div>\n",
       "<table border=\"1\" class=\"dataframe\">\n",
       "  <thead>\n",
       "    <tr style=\"text-align: right;\">\n",
       "      <th></th>\n",
       "      <th>Midterm</th>\n",
       "      <th>Final</th>\n",
       "      <th>Avg.</th>\n",
       "    </tr>\n",
       "    <tr>\n",
       "      <th>Names</th>\n",
       "      <th></th>\n",
       "      <th></th>\n",
       "      <th></th>\n",
       "    </tr>\n",
       "  </thead>\n",
       "  <tbody>\n",
       "    <tr>\n",
       "      <th>WHARTNE</th>\n",
       "      <td>90</td>\n",
       "      <td>74</td>\n",
       "      <td>82.0</td>\n",
       "    </tr>\n",
       "    <tr>\n",
       "      <th>PTROUGH</th>\n",
       "      <td>85</td>\n",
       "      <td>82</td>\n",
       "      <td>83.5</td>\n",
       "    </tr>\n",
       "    <tr>\n",
       "      <th>JPERTWE</th>\n",
       "      <td>88</td>\n",
       "      <td>84</td>\n",
       "      <td>86.0</td>\n",
       "    </tr>\n",
       "    <tr>\n",
       "      <th>TBAKER</th>\n",
       "      <td>86</td>\n",
       "      <td>72</td>\n",
       "      <td>79.0</td>\n",
       "    </tr>\n",
       "    <tr>\n",
       "      <th>PDAVISO</th>\n",
       "      <td>91</td>\n",
       "      <td>97</td>\n",
       "      <td>94.0</td>\n",
       "    </tr>\n",
       "    <tr>\n",
       "      <th>CBAKER</th>\n",
       "      <td>79</td>\n",
       "      <td>90</td>\n",
       "      <td>84.5</td>\n",
       "    </tr>\n",
       "    <tr>\n",
       "      <th>SMCCOY</th>\n",
       "      <td>82</td>\n",
       "      <td>79</td>\n",
       "      <td>80.5</td>\n",
       "    </tr>\n",
       "    <tr>\n",
       "      <th>PMCGANN</th>\n",
       "      <td>65</td>\n",
       "      <td>70</td>\n",
       "      <td>67.5</td>\n",
       "    </tr>\n",
       "    <tr>\n",
       "      <th>CECCLES</th>\n",
       "      <td>88</td>\n",
       "      <td>72</td>\n",
       "      <td>80.0</td>\n",
       "    </tr>\n",
       "    <tr>\n",
       "      <th>DTENNAN</th>\n",
       "      <td>87</td>\n",
       "      <td>95</td>\n",
       "      <td>91.0</td>\n",
       "    </tr>\n",
       "    <tr>\n",
       "      <th>MSMITH</th>\n",
       "      <td>96</td>\n",
       "      <td>85</td>\n",
       "      <td>90.5</td>\n",
       "    </tr>\n",
       "    <tr>\n",
       "      <th>PCAPALD</th>\n",
       "      <td>85</td>\n",
       "      <td>91</td>\n",
       "      <td>88.0</td>\n",
       "    </tr>\n",
       "  </tbody>\n",
       "</table>\n",
       "</div>"
      ],
      "text/plain": [
       "         Midterm  Final  Avg.\n",
       "Names                        \n",
       "WHARTNE       90     74  82.0\n",
       "PTROUGH       85     82  83.5\n",
       "JPERTWE       88     84  86.0\n",
       "TBAKER        86     72  79.0\n",
       "PDAVISO       91     97  94.0\n",
       "CBAKER        79     90  84.5\n",
       "SMCCOY        82     79  80.5\n",
       "PMCGANN       65     70  67.5\n",
       "CECCLES       88     72  80.0\n",
       "DTENNAN       87     95  91.0\n",
       "MSMITH        96     85  90.5\n",
       "PCAPALD       85     91  88.0"
      ]
     },
     "execution_count": 50,
     "metadata": {},
     "output_type": "execute_result"
    }
   ],
   "source": [
    "grades_final['Avg.'] = grades_final.mean(axis=1)\n",
    "grades_final"
   ]
  },
  {
   "cell_type": "markdown",
   "metadata": {},
   "source": [
    "Now, let's make a mask **in place**, getting every average greater than some grade."
   ]
  },
  {
   "cell_type": "code",
   "execution_count": 51,
   "metadata": {
    "collapsed": false
   },
   "outputs": [
    {
     "data": {
      "text/html": [
       "<div>\n",
       "<table border=\"1\" class=\"dataframe\">\n",
       "  <thead>\n",
       "    <tr style=\"text-align: right;\">\n",
       "      <th></th>\n",
       "      <th>Midterm</th>\n",
       "      <th>Final</th>\n",
       "      <th>Avg.</th>\n",
       "    </tr>\n",
       "    <tr>\n",
       "      <th>Names</th>\n",
       "      <th></th>\n",
       "      <th></th>\n",
       "      <th></th>\n",
       "    </tr>\n",
       "  </thead>\n",
       "  <tbody>\n",
       "    <tr>\n",
       "      <th>JPERTWE</th>\n",
       "      <td>88</td>\n",
       "      <td>84</td>\n",
       "      <td>86.0</td>\n",
       "    </tr>\n",
       "    <tr>\n",
       "      <th>PDAVISO</th>\n",
       "      <td>91</td>\n",
       "      <td>97</td>\n",
       "      <td>94.0</td>\n",
       "    </tr>\n",
       "    <tr>\n",
       "      <th>DTENNAN</th>\n",
       "      <td>87</td>\n",
       "      <td>95</td>\n",
       "      <td>91.0</td>\n",
       "    </tr>\n",
       "    <tr>\n",
       "      <th>MSMITH</th>\n",
       "      <td>96</td>\n",
       "      <td>85</td>\n",
       "      <td>90.5</td>\n",
       "    </tr>\n",
       "    <tr>\n",
       "      <th>PCAPALD</th>\n",
       "      <td>85</td>\n",
       "      <td>91</td>\n",
       "      <td>88.0</td>\n",
       "    </tr>\n",
       "  </tbody>\n",
       "</table>\n",
       "</div>"
      ],
      "text/plain": [
       "         Midterm  Final  Avg.\n",
       "Names                        \n",
       "JPERTWE       88     84  86.0\n",
       "PDAVISO       91     97  94.0\n",
       "DTENNAN       87     95  91.0\n",
       "MSMITH        96     85  90.5\n",
       "PCAPALD       85     91  88.0"
      ]
     },
     "execution_count": 51,
     "metadata": {},
     "output_type": "execute_result"
    }
   ],
   "source": [
    "grades_final[grades_final['Avg.']>85]"
   ]
  },
  {
   "cell_type": "markdown",
   "metadata": {},
   "source": [
    "We're not limited to built-in functions for extra cells, we can even make a weighted average for the two grades:"
   ]
  },
  {
   "cell_type": "code",
   "execution_count": 52,
   "metadata": {
    "collapsed": false
   },
   "outputs": [
    {
     "data": {
      "text/html": [
       "<div>\n",
       "<table border=\"1\" class=\"dataframe\">\n",
       "  <thead>\n",
       "    <tr style=\"text-align: right;\">\n",
       "      <th></th>\n",
       "      <th>Midterm</th>\n",
       "      <th>Final</th>\n",
       "      <th>Avg.</th>\n",
       "      <th>W.Avg.</th>\n",
       "    </tr>\n",
       "    <tr>\n",
       "      <th>Names</th>\n",
       "      <th></th>\n",
       "      <th></th>\n",
       "      <th></th>\n",
       "      <th></th>\n",
       "    </tr>\n",
       "  </thead>\n",
       "  <tbody>\n",
       "    <tr>\n",
       "      <th>WHARTNE</th>\n",
       "      <td>90</td>\n",
       "      <td>74</td>\n",
       "      <td>82.0</td>\n",
       "      <td>80.4</td>\n",
       "    </tr>\n",
       "    <tr>\n",
       "      <th>PTROUGH</th>\n",
       "      <td>85</td>\n",
       "      <td>82</td>\n",
       "      <td>83.5</td>\n",
       "      <td>83.2</td>\n",
       "    </tr>\n",
       "    <tr>\n",
       "      <th>JPERTWE</th>\n",
       "      <td>88</td>\n",
       "      <td>84</td>\n",
       "      <td>86.0</td>\n",
       "      <td>85.6</td>\n",
       "    </tr>\n",
       "    <tr>\n",
       "      <th>TBAKER</th>\n",
       "      <td>86</td>\n",
       "      <td>72</td>\n",
       "      <td>79.0</td>\n",
       "      <td>77.6</td>\n",
       "    </tr>\n",
       "    <tr>\n",
       "      <th>PDAVISO</th>\n",
       "      <td>91</td>\n",
       "      <td>97</td>\n",
       "      <td>94.0</td>\n",
       "      <td>94.6</td>\n",
       "    </tr>\n",
       "    <tr>\n",
       "      <th>CBAKER</th>\n",
       "      <td>79</td>\n",
       "      <td>90</td>\n",
       "      <td>84.5</td>\n",
       "      <td>85.6</td>\n",
       "    </tr>\n",
       "    <tr>\n",
       "      <th>SMCCOY</th>\n",
       "      <td>82</td>\n",
       "      <td>79</td>\n",
       "      <td>80.5</td>\n",
       "      <td>80.2</td>\n",
       "    </tr>\n",
       "    <tr>\n",
       "      <th>PMCGANN</th>\n",
       "      <td>65</td>\n",
       "      <td>70</td>\n",
       "      <td>67.5</td>\n",
       "      <td>68.0</td>\n",
       "    </tr>\n",
       "    <tr>\n",
       "      <th>CECCLES</th>\n",
       "      <td>88</td>\n",
       "      <td>72</td>\n",
       "      <td>80.0</td>\n",
       "      <td>78.4</td>\n",
       "    </tr>\n",
       "    <tr>\n",
       "      <th>DTENNAN</th>\n",
       "      <td>87</td>\n",
       "      <td>95</td>\n",
       "      <td>91.0</td>\n",
       "      <td>91.8</td>\n",
       "    </tr>\n",
       "    <tr>\n",
       "      <th>MSMITH</th>\n",
       "      <td>96</td>\n",
       "      <td>85</td>\n",
       "      <td>90.5</td>\n",
       "      <td>89.4</td>\n",
       "    </tr>\n",
       "    <tr>\n",
       "      <th>PCAPALD</th>\n",
       "      <td>85</td>\n",
       "      <td>91</td>\n",
       "      <td>88.0</td>\n",
       "      <td>88.6</td>\n",
       "    </tr>\n",
       "  </tbody>\n",
       "</table>\n",
       "</div>"
      ],
      "text/plain": [
       "         Midterm  Final  Avg.  W.Avg.\n",
       "Names                                \n",
       "WHARTNE       90     74  82.0    80.4\n",
       "PTROUGH       85     82  83.5    83.2\n",
       "JPERTWE       88     84  86.0    85.6\n",
       "TBAKER        86     72  79.0    77.6\n",
       "PDAVISO       91     97  94.0    94.6\n",
       "CBAKER        79     90  84.5    85.6\n",
       "SMCCOY        82     79  80.5    80.2\n",
       "PMCGANN       65     70  67.5    68.0\n",
       "CECCLES       88     72  80.0    78.4\n",
       "DTENNAN       87     95  91.0    91.8\n",
       "MSMITH        96     85  90.5    89.4\n",
       "PCAPALD       85     91  88.0    88.6"
      ]
     },
     "execution_count": 52,
     "metadata": {},
     "output_type": "execute_result"
    }
   ],
   "source": [
    "grades_final['W.Avg.'] = (grades_final['Midterm'] *.4 + grades_final['Final'] *.6)\n",
    "grades_final"
   ]
  },
  {
   "cell_type": "markdown",
   "metadata": {},
   "source": [
    "Using a boolean AND (&) or a boolean OR (|) we can combine masks to have compound results."
   ]
  },
  {
   "cell_type": "code",
   "execution_count": 53,
   "metadata": {
    "collapsed": false
   },
   "outputs": [
    {
     "data": {
      "text/html": [
       "<div>\n",
       "<table border=\"1\" class=\"dataframe\">\n",
       "  <thead>\n",
       "    <tr style=\"text-align: right;\">\n",
       "      <th></th>\n",
       "      <th>Midterm</th>\n",
       "      <th>Final</th>\n",
       "      <th>Avg.</th>\n",
       "      <th>W.Avg.</th>\n",
       "    </tr>\n",
       "    <tr>\n",
       "      <th>Names</th>\n",
       "      <th></th>\n",
       "      <th></th>\n",
       "      <th></th>\n",
       "      <th></th>\n",
       "    </tr>\n",
       "  </thead>\n",
       "  <tbody>\n",
       "    <tr>\n",
       "      <th>JPERTWE</th>\n",
       "      <td>88</td>\n",
       "      <td>84</td>\n",
       "      <td>86.0</td>\n",
       "      <td>85.6</td>\n",
       "    </tr>\n",
       "    <tr>\n",
       "      <th>PDAVISO</th>\n",
       "      <td>91</td>\n",
       "      <td>97</td>\n",
       "      <td>94.0</td>\n",
       "      <td>94.6</td>\n",
       "    </tr>\n",
       "    <tr>\n",
       "      <th>DTENNAN</th>\n",
       "      <td>87</td>\n",
       "      <td>95</td>\n",
       "      <td>91.0</td>\n",
       "      <td>91.8</td>\n",
       "    </tr>\n",
       "    <tr>\n",
       "      <th>MSMITH</th>\n",
       "      <td>96</td>\n",
       "      <td>85</td>\n",
       "      <td>90.5</td>\n",
       "      <td>89.4</td>\n",
       "    </tr>\n",
       "    <tr>\n",
       "      <th>PCAPALD</th>\n",
       "      <td>85</td>\n",
       "      <td>91</td>\n",
       "      <td>88.0</td>\n",
       "      <td>88.6</td>\n",
       "    </tr>\n",
       "  </tbody>\n",
       "</table>\n",
       "</div>"
      ],
      "text/plain": [
       "         Midterm  Final  Avg.  W.Avg.\n",
       "Names                                \n",
       "JPERTWE       88     84  86.0    85.6\n",
       "PDAVISO       91     97  94.0    94.6\n",
       "DTENNAN       87     95  91.0    91.8\n",
       "MSMITH        96     85  90.5    89.4\n",
       "PCAPALD       85     91  88.0    88.6"
      ]
     },
     "execution_count": 53,
     "metadata": {},
     "output_type": "execute_result"
    }
   ],
   "source": [
    "grades_final[(grades_final['Avg.'] > 85) & (grades_final['Midterm'] > 80)]"
   ]
  },
  {
   "cell_type": "code",
   "execution_count": null,
   "metadata": {
    "collapsed": true
   },
   "outputs": [],
   "source": []
  }
 ],
 "metadata": {
  "anaconda-cloud": {},
  "kernelspec": {
   "display_name": "Python 2",
   "language": "python",
   "name": "python2"
  },
  "language_info": {
   "codemirror_mode": {
    "name": "ipython",
    "version": 2
   },
   "file_extension": ".py",
   "mimetype": "text/x-python",
   "name": "python",
   "nbconvert_exporter": "python",
   "pygments_lexer": "ipython2",
   "version": "2.7.10"
  }
 },
 "nbformat": 4,
 "nbformat_minor": 0
}
